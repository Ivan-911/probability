{
 "cells": [
  {
   "cell_type": "markdown",
   "id": "886b004c-6991-4451-8df7-fed3ba08600f",
   "metadata": {},
   "source": [
    "##### 1. Вероятность того, что стрелок попадет в мишень, выстрелив один раз, равна 0.8. Стрелок выстрелил 100 раз. Найдите вероятность того, что стрелок попадет в цель ровно 85 раз."
   ]
  },
  {
   "cell_type": "code",
   "execution_count": 1,
   "id": "3fa11bc0-4aed-486c-be1a-14e8874b5c85",
   "metadata": {},
   "outputs": [],
   "source": [
    "import pandas as pd\n",
    "from math import factorial, e , sqrt"
   ]
  },
  {
   "cell_type": "code",
   "execution_count": 2,
   "id": "09829816-a86a-4c47-9c6a-a8dbce784045",
   "metadata": {},
   "outputs": [],
   "source": [
    "def combinations (n,k):\n",
    "    return factorial(n) // (factorial(k) * factorial(n - k)) "
   ]
  },
  {
   "cell_type": "code",
   "execution_count": 3,
   "id": "9185d530-d4e8-425a-9eba-8e410bd0db35",
   "metadata": {},
   "outputs": [],
   "source": [
    "def bernoulli_formula(k, n, p):\n",
    "    \"\"\"k - the date of occurrence of the event\n",
    "       n - number of tests\n",
    "       p - probability of occurrence of the event\"\"\"\n",
    "    return combinations(n, k) * (p ** k) * ((1 - p) ** (n -k))"
   ]
  },
  {
   "cell_type": "code",
   "execution_count": 4,
   "id": "7847cf85-d4bd-4d5b-b222-40a3f83589d0",
   "metadata": {},
   "outputs": [
    {
     "data": {
      "text/plain": [
       "0.048061793700746355"
      ]
     },
     "execution_count": 4,
     "metadata": {},
     "output_type": "execute_result"
    }
   ],
   "source": [
    "bernoulli_formula(85, 100, 0.8)"
   ]
  },
  {
   "cell_type": "markdown",
   "id": "99545123-c4fc-429a-88f0-af20ce1c437a",
   "metadata": {},
   "source": [
    "##### 2. Вероятность того, что лампочка перегорит в течение первого дня эксплуатации, равна 0.0004. В жилом комплексе после ремонта в один день включили 5000 новых лампочек. Какова вероятность, что ни одна из них не перегорит в первый день? Какова вероятность, что перегорят ровно две?"
   ]
  },
  {
   "cell_type": "code",
   "execution_count": 5,
   "id": "f354b358-847d-43d7-b5ed-871742dcd0a6",
   "metadata": {},
   "outputs": [],
   "source": [
    "def poisson_formula(m, n, mean_event):\n",
    "    \"\"\"m - number of times\n",
    "       n - number of tests\n",
    "       mean_event - the average number of occurrence of an event for a certain unit of measurement\"\"\"\n",
    "    return (mean_event ** m / factorial(m)) * e **(-mean_event)"
   ]
  },
  {
   "cell_type": "code",
   "execution_count": 6,
   "id": "087e19ed-d81e-4338-a287-329a2e8eef80",
   "metadata": {},
   "outputs": [
    {
     "data": {
      "text/plain": [
       "2.0"
      ]
     },
     "execution_count": 6,
     "metadata": {},
     "output_type": "execute_result"
    }
   ],
   "source": [
    "mean_event = 0.0004 * 5000\n",
    "mean_event"
   ]
  },
  {
   "cell_type": "markdown",
   "id": "25e140c1-4ae0-4d1e-bbbc-5e4c5f3acdf4",
   "metadata": {},
   "source": [
    "* что ни одна из них не перегорит в первый день? "
   ]
  },
  {
   "cell_type": "code",
   "execution_count": 7,
   "id": "4684d23a-3f03-43fe-83df-591bf770c678",
   "metadata": {},
   "outputs": [
    {
     "data": {
      "text/plain": [
       "0.1353352832366127"
      ]
     },
     "execution_count": 7,
     "metadata": {},
     "output_type": "execute_result"
    }
   ],
   "source": [
    "m = 0\n",
    "n = 5000 \n",
    "poisson_formula(m, n, mean_event)"
   ]
  },
  {
   "cell_type": "markdown",
   "id": "e3c348c1-3f8c-4b54-b09d-23255e3967d6",
   "metadata": {},
   "source": [
    "* Какова вероятность, что перегорят ровно две?"
   ]
  },
  {
   "cell_type": "code",
   "execution_count": 8,
   "id": "37461acf-c3eb-47aa-9866-f874e7bc7fbf",
   "metadata": {},
   "outputs": [
    {
     "data": {
      "text/plain": [
       "0.2706705664732254"
      ]
     },
     "execution_count": 8,
     "metadata": {},
     "output_type": "execute_result"
    }
   ],
   "source": [
    "m = 2\n",
    "n = 5000 \n",
    "poisson_formula(m, n, mean_event)"
   ]
  },
  {
   "cell_type": "markdown",
   "id": "b5a88075-6cb2-44b0-a9b1-8f0b5a8e2294",
   "metadata": {},
   "source": [
    "##### 3. Монету подбросили 144 раза. Какова вероятность, что орел выпадет ровно 70 раз?"
   ]
  },
  {
   "cell_type": "code",
   "execution_count": 9,
   "id": "f07e0a73-0040-4fdd-afa2-abd4cbdf827f",
   "metadata": {},
   "outputs": [
    {
     "data": {
      "text/plain": [
       "0.06281178035144776"
      ]
     },
     "execution_count": 9,
     "metadata": {},
     "output_type": "execute_result"
    }
   ],
   "source": [
    "k = 70\n",
    "n = 144\n",
    "p = 0.5\n",
    "bernoulli_formula(k, n, p)"
   ]
  },
  {
   "cell_type": "markdown",
   "id": "26dd964e-1977-4074-bdf8-a1e57765bda2",
   "metadata": {},
   "source": [
    "##### 4. В первом ящике находится 10 мячей, из которых 7 - белые. Во втором ящике - 11 мячей, из которых 9 белых. Из каждого ящика вытаскивают случайным образом по два мяча. Какова вероятность того, что все мячи белые? Какова вероятность того, что ровно два мяча белые? Какова вероятность того, что хотя бы один мяч белый?"
   ]
  },
  {
   "cell_type": "markdown",
   "id": "1c6f7fee-4fae-4af1-9062-2eb6a1e82ae2",
   "metadata": {},
   "source": [
    "* Какова вероятность того, что все мячи белые? "
   ]
  },
  {
   "cell_type": "code",
   "execution_count": 10,
   "id": "41d502a7-7a03-42b2-847b-01fce204d0d9",
   "metadata": {},
   "outputs": [],
   "source": [
    "p = (combinations(n=7, k=2) / combinations(n=10, k=2)) * ((combinations(n=9, k=2) / combinations(n=11, k=2)))"
   ]
  },
  {
   "cell_type": "code",
   "execution_count": 11,
   "id": "506ff145-fe9b-4f5c-8d78-006c84df9094",
   "metadata": {},
   "outputs": [
    {
     "data": {
      "text/plain": [
       "0.3054545454545455"
      ]
     },
     "execution_count": 11,
     "metadata": {},
     "output_type": "execute_result"
    }
   ],
   "source": [
    "p"
   ]
  },
  {
   "cell_type": "code",
   "execution_count": 12,
   "id": "7a3ea5c6-72a3-43c4-bdbc-3ab63ee7b7b6",
   "metadata": {},
   "outputs": [],
   "source": [
    "p =  (7 / 10) * (9 / 11) * (6 / 9) * (8 / 10)"
   ]
  },
  {
   "cell_type": "code",
   "execution_count": 13,
   "id": "414819ec-7c91-468f-9a0a-df1266dcbea2",
   "metadata": {},
   "outputs": [
    {
     "data": {
      "text/plain": [
       "0.3054545454545455"
      ]
     },
     "execution_count": 13,
     "metadata": {},
     "output_type": "execute_result"
    }
   ],
   "source": [
    "p"
   ]
  },
  {
   "cell_type": "markdown",
   "id": "baeded50-9d1f-4530-b43a-749cef79ded1",
   "metadata": {},
   "source": [
    "* Какова вероятность того, что ровно два мяча белые? "
   ]
  },
  {
   "cell_type": "code",
   "execution_count": 14,
   "id": "dc2f6f89-6142-4c35-84c5-120f7dfc0db0",
   "metadata": {},
   "outputs": [],
   "source": [
    "p = (combinations(n=7, k=2) / combinations(n=10, k=2)) * ((1 / combinations(n=11, k=2))) + \\\n",
    "    (combinations(n=3, k=2) / combinations(n=10, k=2)) * ((combinations(n=9, k=2) / combinations(n=11, k=2))) + \\\n",
    "    (combinations(n=7, k=1) * 3/ combinations(n=10, k=2)) * ((combinations(n=9, k=1) * 2/ combinations(n=11, k=2)))"
   ]
  },
  {
   "cell_type": "code",
   "execution_count": 15,
   "id": "0ca4be2f-fe70-41dc-a4df-0a2496611c45",
   "metadata": {},
   "outputs": [
    {
     "data": {
      "text/plain": [
       "0.20484848484848486"
      ]
     },
     "execution_count": 15,
     "metadata": {},
     "output_type": "execute_result"
    }
   ],
   "source": [
    "p"
   ]
  },
  {
   "cell_type": "markdown",
   "id": "3bb7631b-871a-433e-b3fa-cd0028530218",
   "metadata": {},
   "source": [
    "* Какова вероятность того, что хотя бы один мяч белый?"
   ]
  },
  {
   "cell_type": "code",
   "execution_count": 16,
   "id": "ee89ee1d-0e2f-4349-b577-19677b0262e0",
   "metadata": {},
   "outputs": [],
   "source": [
    "p = (combinations(n=7, k=1) * 3/ combinations(n=10, k=2)) * ((1 / combinations(n=11, k=2))) + \\\n",
    "    (combinations(n=3, k=2) / combinations(n=10, k=2)) * ((combinations(n=9, k=1) * 2 / combinations(n=11, k=2)))"
   ]
  },
  {
   "cell_type": "code",
   "execution_count": 17,
   "id": "4bd378bb-295d-42b5-aeed-8d9f11c0bc94",
   "metadata": {},
   "outputs": [
    {
     "data": {
      "text/plain": [
       "0.0303030303030303"
      ]
     },
     "execution_count": 17,
     "metadata": {},
     "output_type": "execute_result"
    }
   ],
   "source": [
    "p"
   ]
  },
  {
   "cell_type": "code",
   "execution_count": null,
   "id": "8004d60a-9c03-44a4-93e3-918cb99b4e4c",
   "metadata": {},
   "outputs": [],
   "source": []
  }
 ],
 "metadata": {
  "kernelspec": {
   "display_name": "Python 3 (ipykernel)",
   "language": "python",
   "name": "python3"
  },
  "language_info": {
   "codemirror_mode": {
    "name": "ipython",
    "version": 3
   },
   "file_extension": ".py",
   "mimetype": "text/x-python",
   "name": "python",
   "nbconvert_exporter": "python",
   "pygments_lexer": "ipython3",
   "version": "3.11.4"
  }
 },
 "nbformat": 4,
 "nbformat_minor": 5
}
