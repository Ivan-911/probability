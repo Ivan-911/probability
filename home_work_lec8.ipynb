{
 "cells": [
  {
   "cell_type": "markdown",
   "id": "3c9fec10-e9b8-47ee-9c5b-0e26dd2fdd70",
   "metadata": {},
   "source": [
    "1. Задача 1 Даны значения величины заработной платы заемщиков банка (zp) и значения их\n",
    "поведенческого кредитного скоринга (ks):\n",
    "zp = [35, 45, 190, 200, 40, 70, 54, 150, 120, 110],\n",
    "ks = [401, 574, 874, 919, 459, 739, 653, 902, 746, 832].\n",
    "Найдите ковариацию этих двух величин с помощью элементарных действий, а затем с\n",
    "помощью функции cov из numpy\n",
    "Полученные значения должны быть равны.\n",
    "Найдите коэффициент корреляции Пирсона с помощью ковариации и\n",
    "среднеквадратичных отклонений двух признаков,\n",
    "а затем с использованием функций из библиотек numpy и pandas."
   ]
  },
  {
   "cell_type": "code",
   "execution_count": 1,
   "id": "3e1c0af7-e536-43e2-babc-31e9094c8d84",
   "metadata": {},
   "outputs": [],
   "source": [
    "import numpy as np"
   ]
  },
  {
   "cell_type": "code",
   "execution_count": 2,
   "id": "fa2913dc-7da4-4f6a-bf6a-d464aaf670d7",
   "metadata": {},
   "outputs": [],
   "source": [
    "zp = [35, 45, 190, 200, 40, 70, 54, 150, 120, 110]\n",
    "ks = [401, 574, 874, 919, 459, 739, 653, 902, 746, 832]"
   ]
  },
  {
   "cell_type": "code",
   "execution_count": 3,
   "id": "8f663f66-7e9c-4ba6-8b0d-4f4f1a85c1e4",
   "metadata": {},
   "outputs": [
    {
     "data": {
      "text/plain": [
       "array([[ 14035,  25830, 166060, 183800,  18360,  51730,  35262, 135300,\n",
       "         89520,  91520]])"
      ]
     },
     "execution_count": 3,
     "metadata": {},
     "output_type": "execute_result"
    }
   ],
   "source": [
    "zp_ar = np.array([zp])\n",
    "ks_ar = np.array([ks])\n",
    "zp_ar_ks_ar = zp_ar * ks_ar\n",
    "zp_ar_ks_ar"
   ]
  },
  {
   "cell_type": "code",
   "execution_count": 4,
   "id": "725bad69-4577-43b5-b75e-e0c72cbfee6d",
   "metadata": {},
   "outputs": [
    {
     "data": {
      "text/plain": [
       "81141.7"
      ]
     },
     "execution_count": 4,
     "metadata": {},
     "output_type": "execute_result"
    }
   ],
   "source": [
    "m_xy = np.sum(zp_ar_ks_ar) / zp_ar_ks_ar.shape[1]\n",
    "m_xy"
   ]
  },
  {
   "cell_type": "code",
   "execution_count": 5,
   "id": "a02f4474-443b-47ad-82df-2bb9275e7670",
   "metadata": {},
   "outputs": [
    {
     "data": {
      "text/plain": [
       "101.4"
      ]
     },
     "execution_count": 5,
     "metadata": {},
     "output_type": "execute_result"
    }
   ],
   "source": [
    "m_x = np.sum(zp_ar) / zp_ar.shape[1]\n",
    "m_x"
   ]
  },
  {
   "cell_type": "code",
   "execution_count": 6,
   "id": "31b31778-02a8-4df3-8abc-706ac9bf46a2",
   "metadata": {},
   "outputs": [
    {
     "data": {
      "text/plain": [
       "709.9"
      ]
     },
     "execution_count": 6,
     "metadata": {},
     "output_type": "execute_result"
    }
   ],
   "source": [
    "m_y = np.sum(ks_ar) / ks_ar.shape[1]\n",
    "m_y"
   ]
  },
  {
   "cell_type": "code",
   "execution_count": 11,
   "id": "d8cea704-97f7-472d-a0e3-fa53e348b6b0",
   "metadata": {},
   "outputs": [
    {
     "data": {
      "text/plain": [
       "9157.84"
      ]
     },
     "execution_count": 11,
     "metadata": {},
     "output_type": "execute_result"
    }
   ],
   "source": [
    "cov_xy = m_xy - m_x * m_y\n",
    "round(cov_xy, 2)"
   ]
  },
  {
   "cell_type": "code",
   "execution_count": 8,
   "id": "4e0c5a98-cccc-40cc-b0c4-b007495bed6b",
   "metadata": {},
   "outputs": [
    {
     "data": {
      "text/plain": [
       "array([[ 3494.64,  9157.84],\n",
       "       [ 9157.84, 30468.89]])"
      ]
     },
     "execution_count": 8,
     "metadata": {},
     "output_type": "execute_result"
    }
   ],
   "source": [
    "np.cov(zp_ar, ks_ar, ddof=)"
   ]
  },
  {
   "cell_type": "markdown",
   "id": "c821df83-3c8d-4b54-b66a-a77fdc2abd72",
   "metadata": {},
   "source": [
    "cov = 9157.84 \\\n",
    "cov_xy = 9157.84"
   ]
  },
  {
   "cell_type": "code",
   "execution_count": 12,
   "id": "1401519f-89ab-48ee-8b23-02ba11942061",
   "metadata": {},
   "outputs": [
    {
     "data": {
      "text/plain": [
       "0.8874900920739158"
      ]
     },
     "execution_count": 12,
     "metadata": {},
     "output_type": "execute_result"
    }
   ],
   "source": [
    "pirson = cov_xy / (np.std(zp_ar, ddof=0) * np.std(ks_ar, ddof=0))\n",
    "pirson"
   ]
  },
  {
   "cell_type": "code",
   "execution_count": 14,
   "id": "3861feaa-9f38-4ac8-a526-ec10a451cc15",
   "metadata": {},
   "outputs": [
    {
     "data": {
      "text/plain": [
       "array([[1.        , 0.88749009],\n",
       "       [0.88749009, 1.        ]])"
      ]
     },
     "execution_count": 14,
     "metadata": {},
     "output_type": "execute_result"
    }
   ],
   "source": [
    "np.corrcoef(zp_ar, ks_ar)"
   ]
  },
  {
   "cell_type": "code",
   "execution_count": 15,
   "id": "575950c2-e9ac-41a2-8530-49d295e49e53",
   "metadata": {},
   "outputs": [],
   "source": [
    "import pandas as pd"
   ]
  },
  {
   "cell_type": "code",
   "execution_count": 19,
   "id": "0f17b5b9-4005-48a1-a746-88069474fcc3",
   "metadata": {},
   "outputs": [],
   "source": [
    "data = {'zp': zp, 'ks': ks}"
   ]
  },
  {
   "cell_type": "code",
   "execution_count": 20,
   "id": "3975dd38-64a3-4047-abc8-dbb0705cbc60",
   "metadata": {},
   "outputs": [],
   "source": [
    "df = pd.DataFrame(data)"
   ]
  },
  {
   "cell_type": "code",
   "execution_count": 25,
   "id": "790f755a-29d4-46e6-bb51-53a1e16319d9",
   "metadata": {},
   "outputs": [
    {
     "data": {
      "text/html": [
       "<div>\n",
       "<style scoped>\n",
       "    .dataframe tbody tr th:only-of-type {\n",
       "        vertical-align: middle;\n",
       "    }\n",
       "\n",
       "    .dataframe tbody tr th {\n",
       "        vertical-align: top;\n",
       "    }\n",
       "\n",
       "    .dataframe thead th {\n",
       "        text-align: right;\n",
       "    }\n",
       "</style>\n",
       "<table border=\"1\" class=\"dataframe\">\n",
       "  <thead>\n",
       "    <tr style=\"text-align: right;\">\n",
       "      <th></th>\n",
       "      <th>zp</th>\n",
       "      <th>ks</th>\n",
       "    </tr>\n",
       "  </thead>\n",
       "  <tbody>\n",
       "    <tr>\n",
       "      <th>0</th>\n",
       "      <td>35</td>\n",
       "      <td>401</td>\n",
       "    </tr>\n",
       "    <tr>\n",
       "      <th>1</th>\n",
       "      <td>45</td>\n",
       "      <td>574</td>\n",
       "    </tr>\n",
       "    <tr>\n",
       "      <th>2</th>\n",
       "      <td>190</td>\n",
       "      <td>874</td>\n",
       "    </tr>\n",
       "    <tr>\n",
       "      <th>3</th>\n",
       "      <td>200</td>\n",
       "      <td>919</td>\n",
       "    </tr>\n",
       "    <tr>\n",
       "      <th>4</th>\n",
       "      <td>40</td>\n",
       "      <td>459</td>\n",
       "    </tr>\n",
       "    <tr>\n",
       "      <th>5</th>\n",
       "      <td>70</td>\n",
       "      <td>739</td>\n",
       "    </tr>\n",
       "    <tr>\n",
       "      <th>6</th>\n",
       "      <td>54</td>\n",
       "      <td>653</td>\n",
       "    </tr>\n",
       "    <tr>\n",
       "      <th>7</th>\n",
       "      <td>150</td>\n",
       "      <td>902</td>\n",
       "    </tr>\n",
       "    <tr>\n",
       "      <th>8</th>\n",
       "      <td>120</td>\n",
       "      <td>746</td>\n",
       "    </tr>\n",
       "    <tr>\n",
       "      <th>9</th>\n",
       "      <td>110</td>\n",
       "      <td>832</td>\n",
       "    </tr>\n",
       "  </tbody>\n",
       "</table>\n",
       "</div>"
      ],
      "text/plain": [
       "    zp   ks\n",
       "0   35  401\n",
       "1   45  574\n",
       "2  190  874\n",
       "3  200  919\n",
       "4   40  459\n",
       "5   70  739\n",
       "6   54  653\n",
       "7  150  902\n",
       "8  120  746\n",
       "9  110  832"
      ]
     },
     "execution_count": 25,
     "metadata": {},
     "output_type": "execute_result"
    }
   ],
   "source": [
    "df"
   ]
  },
  {
   "cell_type": "code",
   "execution_count": 26,
   "id": "427665e4-1057-4c9b-a730-8034674346bc",
   "metadata": {},
   "outputs": [],
   "source": [
    "corr_matrix = df.corr()"
   ]
  },
  {
   "cell_type": "code",
   "execution_count": 27,
   "id": "38602136-feb4-4733-a871-5380fbb02dc6",
   "metadata": {},
   "outputs": [
    {
     "data": {
      "text/html": [
       "<div>\n",
       "<style scoped>\n",
       "    .dataframe tbody tr th:only-of-type {\n",
       "        vertical-align: middle;\n",
       "    }\n",
       "\n",
       "    .dataframe tbody tr th {\n",
       "        vertical-align: top;\n",
       "    }\n",
       "\n",
       "    .dataframe thead th {\n",
       "        text-align: right;\n",
       "    }\n",
       "</style>\n",
       "<table border=\"1\" class=\"dataframe\">\n",
       "  <thead>\n",
       "    <tr style=\"text-align: right;\">\n",
       "      <th></th>\n",
       "      <th>zp</th>\n",
       "      <th>ks</th>\n",
       "    </tr>\n",
       "  </thead>\n",
       "  <tbody>\n",
       "    <tr>\n",
       "      <th>zp</th>\n",
       "      <td>1.00000</td>\n",
       "      <td>0.88749</td>\n",
       "    </tr>\n",
       "    <tr>\n",
       "      <th>ks</th>\n",
       "      <td>0.88749</td>\n",
       "      <td>1.00000</td>\n",
       "    </tr>\n",
       "  </tbody>\n",
       "</table>\n",
       "</div>"
      ],
      "text/plain": [
       "         zp       ks\n",
       "zp  1.00000  0.88749\n",
       "ks  0.88749  1.00000"
      ]
     },
     "execution_count": 27,
     "metadata": {},
     "output_type": "execute_result"
    }
   ],
   "source": [
    "corr_matrix"
   ]
  },
  {
   "cell_type": "markdown",
   "id": "1fd9ed36-01af-4d10-a3fb-b6f1a04bc3e9",
   "metadata": {},
   "source": [
    "2. Задача 2 Измерены значения IQ выборки студентов,\n",
    "обучающихся в местных технических вузах:\n",
    "131, 125, 115, 122, 131, 115, 107, 99, 125, 111.\n",
    "Известно, что в генеральной совокупности IQ распределен нормально.\n",
    "Найдите доверительный интервал для математического ожидания с надежностью 0.95."
   ]
  },
  {
   "cell_type": "code",
   "execution_count": 29,
   "id": "cfeb0f6d-2101-4ce9-975b-d360f9d07ffa",
   "metadata": {},
   "outputs": [
    {
     "data": {
      "text/plain": [
       "118.1"
      ]
     },
     "execution_count": 29,
     "metadata": {},
     "output_type": "execute_result"
    }
   ],
   "source": [
    "x = np.array([131, 125, 115, 122, 131, 115, 107, 99, 125, 111])\n",
    "x_mean = np.mean(x)\n",
    "x_mean"
   ]
  },
  {
   "cell_type": "code",
   "execution_count": 30,
   "id": "94bcad73-5e21-4a25-8765-46ef52fd93e7",
   "metadata": {},
   "outputs": [],
   "source": [
    "from scipy import stats"
   ]
  },
  {
   "cell_type": "code",
   "execution_count": 31,
   "id": "45890ce4-06e8-49df-ab5a-9995e297a38c",
   "metadata": {},
   "outputs": [
    {
     "data": {
      "text/plain": [
       "-2.2621571627409915"
      ]
     },
     "execution_count": 31,
     "metadata": {},
     "output_type": "execute_result"
    }
   ],
   "source": [
    "t = stats.t.ppf((1-0.95)/2, len(x) - 1)\n",
    "t"
   ]
  },
  {
   "cell_type": "code",
   "execution_count": 32,
   "id": "9aa6ee7a-f58c-419f-803b-eb604e415fc0",
   "metadata": {},
   "outputs": [
    {
     "data": {
      "text/plain": [
       "125.64391634841274"
      ]
     },
     "execution_count": 32,
     "metadata": {},
     "output_type": "execute_result"
    }
   ],
   "source": [
    "x_mean - t * (np.std(x, ddof=1)/np.sqrt(len(x)))"
   ]
  },
  {
   "cell_type": "code",
   "execution_count": 33,
   "id": "122ce1dc-4f86-4468-9f35-d2773a5f6070",
   "metadata": {},
   "outputs": [
    {
     "data": {
      "text/plain": [
       "110.55608365158724"
      ]
     },
     "execution_count": 33,
     "metadata": {},
     "output_type": "execute_result"
    }
   ],
   "source": [
    "x_mean + t * (np.std(x, ddof=1)/np.sqrt(len(x)))"
   ]
  },
  {
   "cell_type": "markdown",
   "id": "a4daaa32-638e-4de2-9102-d37c82af4d12",
   "metadata": {},
   "source": [
    "Ответ: (110.55608365158724, 125.64391634841274)"
   ]
  },
  {
   "cell_type": "markdown",
   "id": "a37d1b26-7ae0-4f23-81dd-be373a71ec4a",
   "metadata": {},
   "source": [
    "3. Задача 3 Известно, что рост футболистов в сборной распределен нормально\n",
    "с дисперсией генеральной совокупности, равной 25 кв.см. Объем выборки равен 27,\n",
    "среднее выборочное составляет 174.2. Найдите доверительный интервал для\n",
    "математического\n",
    "ожидания с надежностью 0.95."
   ]
  },
  {
   "cell_type": "code",
   "execution_count": 35,
   "id": "25b354e7-b101-4940-a604-b0f32f0d3ae5",
   "metadata": {},
   "outputs": [
    {
     "data": {
      "text/plain": [
       "-1.6448536269514729"
      ]
     },
     "execution_count": 35,
     "metadata": {},
     "output_type": "execute_result"
    }
   ],
   "source": [
    "z =  stats.norm.ppf(0.05)\n",
    "z"
   ]
  },
  {
   "cell_type": "code",
   "execution_count": 36,
   "id": "c9959df8-71be-46d6-9b5f-434991ae7248",
   "metadata": {},
   "outputs": [
    {
     "data": {
      "text/plain": [
       "175.7827611404966"
      ]
     },
     "execution_count": 36,
     "metadata": {},
     "output_type": "execute_result"
    }
   ],
   "source": [
    "174.2 - z * np.sqrt(25/27)"
   ]
  },
  {
   "cell_type": "code",
   "execution_count": 37,
   "id": "d2b16a21-b79d-4d00-99bb-cc4398d7108a",
   "metadata": {},
   "outputs": [
    {
     "data": {
      "text/plain": [
       "172.61723885950337"
      ]
     },
     "execution_count": 37,
     "metadata": {},
     "output_type": "execute_result"
    }
   ],
   "source": [
    "174.2 + z * np.sqrt(25/27)"
   ]
  },
  {
   "cell_type": "markdown",
   "id": "0f715663-30cf-48c9-acff-501aa987d8d3",
   "metadata": {},
   "source": [
    "Ответ: (172.61723885950337, 175.7827611404966)"
   ]
  },
  {
   "cell_type": "code",
   "execution_count": null,
   "id": "78aa395e-9b8d-4e12-83dc-82aa7f13da68",
   "metadata": {},
   "outputs": [],
   "source": []
  }
 ],
 "metadata": {
  "kernelspec": {
   "display_name": "Python 3 (ipykernel)",
   "language": "python",
   "name": "python3"
  },
  "language_info": {
   "codemirror_mode": {
    "name": "ipython",
    "version": 3
   },
   "file_extension": ".py",
   "mimetype": "text/x-python",
   "name": "python",
   "nbconvert_exporter": "python",
   "pygments_lexer": "ipython3",
   "version": "3.11.4"
  }
 },
 "nbformat": 4,
 "nbformat_minor": 5
}
