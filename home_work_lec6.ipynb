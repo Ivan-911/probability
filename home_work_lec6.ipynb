{
 "cells": [
  {
   "cell_type": "markdown",
   "id": "f112cf9e-689d-4a8a-960c-46b6b46c89ae",
   "metadata": {},
   "source": [
    "1. Известно, что генеральная совокупность распределена нормально со средним квадратическим отклонением, равным 16. Найти доверительный интервал для оценки математического ожидания a с надежностью 0.95, если выборочная средняя M = 80, а объем выборки n = 256."
   ]
  },
  {
   "cell_type": "code",
   "execution_count": 1,
   "id": "08837a73-d3f5-4c8c-935d-037a912cfd44",
   "metadata": {},
   "outputs": [],
   "source": [
    "import numpy as np\n",
    "from scipy import stats"
   ]
  },
  {
   "cell_type": "code",
   "execution_count": 2,
   "id": "fdcecb2c-8b69-4170-b308-f648aa905f11",
   "metadata": {},
   "outputs": [
    {
     "data": {
      "text/plain": [
       "-1.9599639845400545"
      ]
     },
     "execution_count": 2,
     "metadata": {},
     "output_type": "execute_result"
    }
   ],
   "source": [
    "stats.norm.ppf(0.025)"
   ]
  },
  {
   "cell_type": "code",
   "execution_count": 3,
   "id": "dc5cae9e-3907-410b-8c96-79ee6a6f4bba",
   "metadata": {},
   "outputs": [
    {
     "data": {
      "text/plain": [
       "78.04003601545995"
      ]
     },
     "execution_count": 3,
     "metadata": {},
     "output_type": "execute_result"
    }
   ],
   "source": [
    "80 + stats.norm.ppf(0.025) * (16 / np.sqrt(256))"
   ]
  },
  {
   "cell_type": "code",
   "execution_count": 4,
   "id": "0928bdb3-1df6-427b-9208-999aa4deb65a",
   "metadata": {},
   "outputs": [
    {
     "data": {
      "text/plain": [
       "81.95996398454005"
      ]
     },
     "execution_count": 4,
     "metadata": {},
     "output_type": "execute_result"
    }
   ],
   "source": [
    "80 - stats.norm.ppf(0.025) * (16 / np.sqrt(256))"
   ]
  },
  {
   "cell_type": "markdown",
   "id": "f1454782-004a-4820-a618-cec67de4f364",
   "metadata": {},
   "source": [
    "Ответ: (78.04003601545995,  81.95996398454005)"
   ]
  },
  {
   "cell_type": "markdown",
   "id": "1234cece-097a-4258-940a-9b055296d4bf",
   "metadata": {},
   "source": [
    "2. В результате 10 независимых измерений некоторой величины X, выполненных с одинаковой точностью, получены опытные данные: 6.9, 6.1, 6.2, 6.8, 7.5, 6.3, 6.4, 6.9, 6.7, 6.1 Предполагая, что результаты измерений подчинены нормальному закону распределения вероятностей, оценить истинное значение величины X при помощи доверительного интервала, покрывающего это значение с доверительной вероятностью 0,95"
   ]
  },
  {
   "cell_type": "code",
   "execution_count": 5,
   "id": "1e26d37b-3e99-4af4-925a-e07297f38693",
   "metadata": {},
   "outputs": [
    {
     "data": {
      "text/plain": [
       "-2.262157162740992"
      ]
     },
     "execution_count": 5,
     "metadata": {},
     "output_type": "execute_result"
    }
   ],
   "source": [
    "t = stats.t.ppf(0.025, 9)\n",
    "t"
   ]
  },
  {
   "cell_type": "code",
   "execution_count": 6,
   "id": "a7c696a3-eab6-41f4-b3a0-8bd993d88886",
   "metadata": {},
   "outputs": [
    {
     "data": {
      "text/plain": [
       "6.590000000000001"
      ]
     },
     "execution_count": 6,
     "metadata": {},
     "output_type": "execute_result"
    }
   ],
   "source": [
    "data = np.array([6.9, 6.1, 6.2, 6.8, 7.5, 6.3, 6.4, 6.9, 6.7, 6.1])\n",
    "mean_data =  np.mean(data)\n",
    "mean_data"
   ]
  },
  {
   "cell_type": "code",
   "execution_count": 7,
   "id": "48f6b9bb-75e0-4c3a-be63-5d857f90f80d",
   "metadata": {},
   "outputs": [
    {
     "data": {
      "text/plain": [
       "0.4508017549014448"
      ]
     },
     "execution_count": 7,
     "metadata": {},
     "output_type": "execute_result"
    }
   ],
   "source": [
    "st = np.std(data, ddof=1)\n",
    "st"
   ]
  },
  {
   "cell_type": "code",
   "execution_count": 8,
   "id": "ff6ca53b-7c86-4eef-bdf4-194c5c66eb66",
   "metadata": {},
   "outputs": [
    {
     "data": {
      "text/plain": [
       "6.267515851415713"
      ]
     },
     "execution_count": 8,
     "metadata": {},
     "output_type": "execute_result"
    }
   ],
   "source": [
    "mean_data + t * (st / np.sqrt(len(data)))"
   ]
  },
  {
   "cell_type": "code",
   "execution_count": 9,
   "id": "859156d8-f7a6-4f3b-8a27-b9d7e5e6fa2a",
   "metadata": {},
   "outputs": [
    {
     "data": {
      "text/plain": [
       "6.912484148584288"
      ]
     },
     "execution_count": 9,
     "metadata": {},
     "output_type": "execute_result"
    }
   ],
   "source": [
    "mean_data - t * (st / np.sqrt(len(data)))"
   ]
  },
  {
   "cell_type": "markdown",
   "id": "e755a80c-b31f-413f-a83c-7473da94713f",
   "metadata": {},
   "source": [
    "Ответ: (6.267515851415713, 6.912484148584288)"
   ]
  },
  {
   "cell_type": "markdown",
   "id": "039a5537-3a14-4be6-b386-58ec68c43c47",
   "metadata": {},
   "source": [
    "3. Рост дочерей 175, 167, 154, 174, 178, 148, 160, 167, 169, 170 Рост матерей  178, 165, 165, 173, 168, 155, 160, 164, 178, 175 Используя эти данные построить 95% доверительный интервал для разности среднего роста родителей и детей."
   ]
  },
  {
   "cell_type": "code",
   "execution_count": 10,
   "id": "9186c04f-7edc-4f1c-ab16-0da2d615b6e3",
   "metadata": {},
   "outputs": [
    {
     "data": {
      "text/plain": [
       "-1.9000000000000057"
      ]
     },
     "execution_count": 10,
     "metadata": {},
     "output_type": "execute_result"
    }
   ],
   "source": [
    "growth_daughters = np.array([175, 167, 154, 174, 178, 148, 160, 167, 169, 170])\n",
    "growth_mothers = np.array([178, 165, 165, 173, 168, 155, 160, 164, 178, 175])\n",
    "delta = np.mean(growth_daughters) - np.mean(growth_mothers)\n",
    "delta"
   ]
  },
  {
   "cell_type": "code",
   "execution_count": 11,
   "id": "73a43ed0-c034-4d4e-8998-ba2c84f0aa3b",
   "metadata": {},
   "outputs": [
    {
     "data": {
      "text/plain": [
       "75.58333333333334"
      ]
     },
     "execution_count": 11,
     "metadata": {},
     "output_type": "execute_result"
    }
   ],
   "source": [
    "d_both_groups = (np.var(growth_daughters, ddof=1) + np.var(growth_mothers, ddof=1)) / 2\n",
    "d_both_groups"
   ]
  },
  {
   "cell_type": "code",
   "execution_count": 12,
   "id": "e8951a2d-d0d4-4e9b-bc0d-6e219a7ccb50",
   "metadata": {},
   "outputs": [
    {
     "data": {
      "text/plain": [
       "3.8880157750022915"
      ]
     },
     "execution_count": 12,
     "metadata": {},
     "output_type": "execute_result"
    }
   ],
   "source": [
    "s_delta = np.sqrt(d_both_groups/len(growth_daughters) + d_both_groups/len(growth_mothers))\n",
    "s_delta"
   ]
  },
  {
   "cell_type": "code",
   "execution_count": 13,
   "id": "3f21a11d-a6c7-4458-b999-9115b7eddb7b",
   "metadata": {},
   "outputs": [
    {
     "data": {
      "text/plain": [
       "-2.10092204024096"
      ]
     },
     "execution_count": 13,
     "metadata": {},
     "output_type": "execute_result"
    }
   ],
   "source": [
    "t = stats.t.ppf(0.025, 2*(len(growth_daughters) -1))\n",
    "t"
   ]
  },
  {
   "cell_type": "code",
   "execution_count": 14,
   "id": "39938169-b123-4eaf-99a1-596faa1d7020",
   "metadata": {},
   "outputs": [
    {
     "data": {
      "text/plain": [
       "-10.068418034506857"
      ]
     },
     "execution_count": 14,
     "metadata": {},
     "output_type": "execute_result"
    }
   ],
   "source": [
    "delta + t * s_delta"
   ]
  },
  {
   "cell_type": "code",
   "execution_count": 15,
   "id": "02937e9d-dc6c-4e07-ac1a-9d21a716f2ed",
   "metadata": {},
   "outputs": [
    {
     "data": {
      "text/plain": [
       "6.268418034506846"
      ]
     },
     "execution_count": 15,
     "metadata": {},
     "output_type": "execute_result"
    }
   ],
   "source": [
    "delta - t * s_delta"
   ]
  },
  {
   "cell_type": "markdown",
   "id": "053c27cc-aa2d-41bc-9217-f4526a864603",
   "metadata": {},
   "source": [
    "Ответ: (-10.068418034506857, 6.268418034506846)"
   ]
  },
  {
   "cell_type": "code",
   "execution_count": null,
   "id": "10e54dd3-9fe3-4e35-8c22-0d3dff781f7f",
   "metadata": {},
   "outputs": [],
   "source": []
  }
 ],
 "metadata": {
  "kernelspec": {
   "display_name": "Python 3 (ipykernel)",
   "language": "python",
   "name": "python3"
  },
  "language_info": {
   "codemirror_mode": {
    "name": "ipython",
    "version": 3
   },
   "file_extension": ".py",
   "mimetype": "text/x-python",
   "name": "python",
   "nbconvert_exporter": "python",
   "pygments_lexer": "ipython3",
   "version": "3.11.4"
  }
 },
 "nbformat": 4,
 "nbformat_minor": 5
}
