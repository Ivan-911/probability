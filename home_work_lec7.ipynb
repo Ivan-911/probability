{
 "cells": [
  {
   "cell_type": "markdown",
   "id": "f4e574c5-c421-4243-a416-6998b1b30250",
   "metadata": {},
   "source": [
    "* Задача 1. Даны две независимые выборки. Не соблюдается условие нормальности\n",
    "x1 380,420, 290\n",
    "y1 140,360,200,900\n",
    "Сделайте вывод по результатам, полученным с помощью функции, имеются ли статистические различия между группами?"
   ]
  },
  {
   "cell_type": "code",
   "execution_count": 2,
   "id": "66118c51-1f2c-4877-a513-7103b45676f3",
   "metadata": {},
   "outputs": [],
   "source": [
    "from scipy import stats\n",
    "import numpy as np"
   ]
  },
  {
   "cell_type": "code",
   "execution_count": 3,
   "id": "06cd03f7-b59b-4175-811f-aa4b8ef44c4e",
   "metadata": {},
   "outputs": [],
   "source": [
    "x_1 = np.array([380,420, 290 ])\n",
    "y_1 = np.array([140,360,200,900])\n",
    "alpha = 0.05"
   ]
  },
  {
   "cell_type": "code",
   "execution_count": 4,
   "id": "6067a6cd-1a55-4c88-baf9-99cf9f0c0137",
   "metadata": {},
   "outputs": [
    {
     "data": {
      "text/plain": [
       "MannwhitneyuResult(statistic=8.0, pvalue=0.6285714285714286)"
      ]
     },
     "execution_count": 4,
     "metadata": {},
     "output_type": "execute_result"
    }
   ],
   "source": [
    "stats.mannwhitneyu(x_1, y_1)"
   ]
  },
  {
   "cell_type": "markdown",
   "id": "bf55d5e6-3aea-44f3-bb5e-78e014810f44",
   "metadata": {},
   "source": [
    "pvalue > alpha \\\n",
    "статистические различия между группами __нет__"
   ]
  },
  {
   "cell_type": "markdown",
   "id": "d7d43a58-abca-4e2d-83cc-27a92a491f50",
   "metadata": {},
   "source": [
    "* Задача 2. Исследовалось влияние препарата на уровень давления пациентов. Сначала\n",
    "измерялось давление до приема препарата, потом через 10 минут и через 30 минут. Есть\n",
    "ли статистически значимые различия между измерениями давления? В выборках не соблюдается условие нормальности.\n",
    "1е измерение до приема препарата: 150, 160, 165, 145, 155\n",
    "2е измерение через 10 минут: 140, 155, 150, 130, 135\n",
    "3е измерение через 30 минут: 130, 130, 120, 130, 125"
   ]
  },
  {
   "cell_type": "code",
   "execution_count": 5,
   "id": "99a2b7ab-c5f2-4ea7-9a7a-e5a206c88b11",
   "metadata": {},
   "outputs": [],
   "source": [
    "g_1 = np.array([150, 160, 165, 145, 155])\n",
    "g_2 = np.array([140, 155, 150, 130, 135])\n",
    "g_3 = np.array([130, 130, 120, 130, 125])\n",
    "alpha = 0.05"
   ]
  },
  {
   "cell_type": "code",
   "execution_count": 6,
   "id": "d67ace7a-576c-426d-b620-0feba42037db",
   "metadata": {},
   "outputs": [
    {
     "data": {
      "text/plain": [
       "FriedmanchisquareResult(statistic=9.578947368421062, pvalue=0.00831683351100441)"
      ]
     },
     "execution_count": 6,
     "metadata": {},
     "output_type": "execute_result"
    }
   ],
   "source": [
    "stats.friedmanchisquare(g_1, g_2, g_3)"
   ]
  },
  {
   "cell_type": "markdown",
   "id": "70cc1597-f7a7-4b91-9e1f-53712a1f8e18",
   "metadata": {},
   "source": [
    "pvalue < alpha \\\n",
    "статистически значимые различия между измерениями давления __есть__"
   ]
  },
  {
   "cell_type": "markdown",
   "id": "4052aa17-b569-406c-a48d-7a497d30b216",
   "metadata": {},
   "source": [
    "* Задача 3. Сравните 1 и 2 е измерения, предполагая, что 3го измерения через 30 минут не было. Есть\n",
    "ли статистически значимые различия между измерениями давления?"
   ]
  },
  {
   "cell_type": "code",
   "execution_count": 7,
   "id": "0b536287-c357-4f72-90fe-d041c7882604",
   "metadata": {},
   "outputs": [
    {
     "data": {
      "text/plain": [
       "WilcoxonResult(statistic=0.0, pvalue=0.0625)"
      ]
     },
     "execution_count": 7,
     "metadata": {},
     "output_type": "execute_result"
    }
   ],
   "source": [
    "alpha = 0.05\n",
    "stats.wilcoxon(g_1, g_2)"
   ]
  },
  {
   "cell_type": "markdown",
   "id": "1f749050-937b-40ee-bbc6-f16209e53bc5",
   "metadata": {},
   "source": [
    "pvalue > alpha \\\n",
    "статистически значимые различия между измерениями давления __нет__"
   ]
  },
  {
   "cell_type": "markdown",
   "id": "2f3b03a8-38b7-4be7-8db0-680e3bdb27ec",
   "metadata": {},
   "source": [
    "* Задача 4. Даны 3 группы учеников плавания. Не соблюдается условие нормальности.\n",
    "В 1 группе время на дистанцию 50 м составляют:\n",
    "56, 60, 62, 55, 71, 67, 59, 58, 64, 67\n",
    "Вторая группа : 57, 58, 69, 48, 72, 70, 68, 71, 50, 53\n",
    "Третья группа: 57, 67, 49, 48, 47, 55, 66, 51, 54\n",
    "Есть\n",
    "ли статистически значимые различия между группами?"
   ]
  },
  {
   "cell_type": "code",
   "execution_count": 9,
   "id": "b8da909f-8a0d-47ad-88ae-594e506200ca",
   "metadata": {},
   "outputs": [],
   "source": [
    "g_1 = np.array([56, 60, 62, 55, 71, 67, 59, 58, 64, 67])\n",
    "g_2 = np.array([57, 58, 69, 48, 72, 70, 68, 71, 50, 53])\n",
    "g_3 = np.array([57, 67, 49, 48, 47, 55, 66, 51, 54])\n",
    "alpha = 0.05"
   ]
  },
  {
   "cell_type": "code",
   "execution_count": 10,
   "id": "7a660f16-f91b-4d30-8bde-ab27f183857b",
   "metadata": {},
   "outputs": [
    {
     "data": {
      "text/plain": [
       "KruskalResult(statistic=5.465564058257224, pvalue=0.0650380998590494)"
      ]
     },
     "execution_count": 10,
     "metadata": {},
     "output_type": "execute_result"
    }
   ],
   "source": [
    "stats.kruskal(g_1, g_2, g_3)"
   ]
  },
  {
   "cell_type": "markdown",
   "id": "95ec7726-5c19-42c7-bc0a-bf629c35bf3a",
   "metadata": {},
   "source": [
    "pvalue > alpha \\\n",
    "статистически значимые различия между группами __нет__"
   ]
  },
  {
   "cell_type": "markdown",
   "id": "32f49a58-48f7-4403-8e0b-ee0b1364f8d6",
   "metadata": {},
   "source": [
    "* Задача 5. Заявляется, что партия изготавливается со средним арифметическим 2,5 см. Проверить\n",
    "данную гипотезу, если известно, что размеры изделий подчинены нормальному закону\n",
    "распределения. Объем выборки 10, уровень статистической значимости 5%\n",
    "2.51, 2.35, 2.74, 2.56, 2.40, 2.36, 2.65, 2.7, 2.67, 2.34"
   ]
  },
  {
   "cell_type": "code",
   "execution_count": 18,
   "id": "fd675cde-7ffe-430c-98d6-493aec1ef9e0",
   "metadata": {},
   "outputs": [
    {
     "data": {
      "text/plain": [
       "-1.9599639845400545"
      ]
     },
     "execution_count": 18,
     "metadata": {},
     "output_type": "execute_result"
    }
   ],
   "source": [
    "alpha = 0.05\n",
    "n = 10\n",
    "stats.norm.ppf(alpha / 2) # выбрал z критерий так как посчитал, что \"партия \" -это генеральная совокупность"
   ]
  },
  {
   "cell_type": "code",
   "execution_count": 20,
   "id": "e3e03ccb-74b8-4046-add5-4bc4b24e6f2c",
   "metadata": {},
   "outputs": [
    {
     "data": {
      "text/plain": [
       "1.959963984540054"
      ]
     },
     "execution_count": 20,
     "metadata": {},
     "output_type": "execute_result"
    }
   ],
   "source": [
    "stats.norm.ppf(1 - alpha / 2) # выбрал z критерий так как посчитал, что \"партия \" -это генеральная совокупность"
   ]
  },
  {
   "cell_type": "code",
   "execution_count": 21,
   "id": "852c8f2f-ea02-4c80-9832-ce02506b60bd",
   "metadata": {},
   "outputs": [],
   "source": [
    "set_ditail = np.array([2.51, 2.35, 2.74, 2.56, 2.40, 2.36, 2.65, 2.7, 2.67, 2.34])"
   ]
  },
  {
   "cell_type": "code",
   "execution_count": 22,
   "id": "ced3713f-9c79-40b9-a276-65cf0efc1ac7",
   "metadata": {},
   "outputs": [
    {
     "data": {
      "text/plain": [
       "2.5279999999999996"
      ]
     },
     "execution_count": 22,
     "metadata": {},
     "output_type": "execute_result"
    }
   ],
   "source": [
    "x_mean = np.mean(set_ditail)\n",
    "x_mean"
   ]
  },
  {
   "cell_type": "code",
   "execution_count": 23,
   "id": "7e190e44-35b5-4817-99d2-1d8a8736242e",
   "metadata": {},
   "outputs": [
    {
     "data": {
      "text/plain": [
       "0.02472888888888891"
      ]
     },
     "execution_count": 23,
     "metadata": {},
     "output_type": "execute_result"
    }
   ],
   "source": [
    "x_var = np.var(set_ditail, ddof=1)\n",
    "x_var"
   ]
  },
  {
   "cell_type": "code",
   "execution_count": 24,
   "id": "b04c9e75-7da4-42bd-942f-47fa69311ac6",
   "metadata": {},
   "outputs": [
    {
     "data": {
      "text/plain": [
       "3.166415324804617"
      ]
     },
     "execution_count": 24,
     "metadata": {},
     "output_type": "execute_result"
    }
   ],
   "source": [
    "z_h = (x_mean - x_var) / (2.5 / np.sqrt(n))\n",
    "z_h"
   ]
  },
  {
   "cell_type": "markdown",
   "id": "f658bab0-e108-43c5-8605-45bd4d1b4477",
   "metadata": {},
   "source": [
    "1.959963984540054 < 3.166415324804617 \\\n",
    "критическое значение меньше чем z_h (Партия __не__ изготавливается со средним арифметическим 2,5 см.)"
   ]
  },
  {
   "cell_type": "code",
   "execution_count": null,
   "id": "d2187107-cc0e-4b95-8afd-d1152a7851b4",
   "metadata": {},
   "outputs": [],
   "source": []
  }
 ],
 "metadata": {
  "kernelspec": {
   "display_name": "Python 3 (ipykernel)",
   "language": "python",
   "name": "python3"
  },
  "language_info": {
   "codemirror_mode": {
    "name": "ipython",
    "version": 3
   },
   "file_extension": ".py",
   "mimetype": "text/x-python",
   "name": "python",
   "nbconvert_exporter": "python",
   "pygments_lexer": "ipython3",
   "version": "3.11.4"
  }
 },
 "nbformat": 4,
 "nbformat_minor": 5
}
