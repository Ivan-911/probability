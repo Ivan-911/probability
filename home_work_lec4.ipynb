{
 "cells": [
  {
   "cell_type": "code",
   "execution_count": 9,
   "id": "f56549d2-1a51-4659-bf36-8d1c00f2e3c8",
   "metadata": {},
   "outputs": [],
   "source": [
    "from math import sqrt\n",
    "from scipy import stats"
   ]
  },
  {
   "cell_type": "markdown",
   "id": "621f97bd-71a2-418e-b6e1-dae0ac898a4e",
   "metadata": {},
   "source": [
    "*  __Задача 1.__ Случайная непрерывная величина A имеет равномерное распределение на\n",
    "промежутке (200, 800].\n",
    "Найдите ее среднее значение и дисперсию."
   ]
  },
  {
   "cell_type": "code",
   "execution_count": 1,
   "id": "827c9136-3a9a-4cb0-a97a-f1956f76c161",
   "metadata": {},
   "outputs": [
    {
     "data": {
      "text/plain": [
       "30000.0"
      ]
     },
     "execution_count": 1,
     "metadata": {},
     "output_type": "execute_result"
    }
   ],
   "source": [
    "d = (800 - 200)**2 / 12 # Дисперсия\n",
    "d"
   ]
  },
  {
   "cell_type": "code",
   "execution_count": 3,
   "id": "64978ab1-49b9-4725-aa59-5f544cc8d73b",
   "metadata": {},
   "outputs": [
    {
     "data": {
      "text/plain": [
       "500.0"
      ]
     },
     "execution_count": 3,
     "metadata": {},
     "output_type": "execute_result"
    }
   ],
   "source": [
    "m = (200 + 800) / 2 # среднее значение \n",
    "m"
   ]
  },
  {
   "cell_type": "markdown",
   "id": "9731d203-2874-4717-9341-e825b140d9dd",
   "metadata": {},
   "source": [
    "* __Задача 2.__ О случайной непрерывной равномерно распределенной величине B известно, что ее\n",
    "дисперсия равна 0.2.\n",
    "Можно ли найти правую границу величины B и ее среднее значение зная, что левая\n",
    "граница равна 0.5?\n",
    "Если да, найдите ее."
   ]
  },
  {
   "cell_type": "code",
   "execution_count": 6,
   "id": "87295365-434e-4323-a0d7-fbb8fcdfa890",
   "metadata": {},
   "outputs": [
    {
     "data": {
      "text/plain": [
       "2.049193338482967"
      ]
     },
     "execution_count": 6,
     "metadata": {},
     "output_type": "execute_result"
    }
   ],
   "source": [
    "b = sqrt(0.2*12) + 0.5 # правая граница\n",
    "b"
   ]
  },
  {
   "cell_type": "code",
   "execution_count": 7,
   "id": "1601b3f0-ca18-4c0c-938b-6846629e78e6",
   "metadata": {},
   "outputs": [
    {
     "data": {
      "text/plain": [
       "1.2745966692414834"
      ]
     },
     "execution_count": 7,
     "metadata": {},
     "output_type": "execute_result"
    }
   ],
   "source": [
    "d =  (b + 0.5) / 2 # среднее значение\n",
    "d"
   ]
  },
  {
   "cell_type": "markdown",
   "id": "a9f252f4-2f74-45bb-8b82-cb6c892b3606",
   "metadata": {},
   "source": [
    "* __Задача 3.__ Непрерывная случайная величина X распределена нормально и задана плотностью\n",
    "распределения\n",
    "f(x) = (1 / (4 * sqrt(2pi))) * exp((-(x+2)**2) / 32)\n",
    "Найдите:\n",
    "а). M(X)\n",
    "б). D(X)\n",
    "в). std(X) (среднее квадратичное отклонение)"
   ]
  },
  {
   "cell_type": "markdown",
   "id": "6be68d55-e88f-4e59-957b-86cef3f41d6e",
   "metadata": {},
   "source": [
    "* Найдите: а). M(X) "
   ]
  },
  {
   "cell_type": "markdown",
   "id": "d576cacf-e887-4f17-bb1a-4e8847c0d8ee",
   "metadata": {},
   "source": [
    "M(X) = 2"
   ]
  },
  {
   "cell_type": "markdown",
   "id": "34a23c37-ae85-4cda-bdae-d5889ddd679a",
   "metadata": {},
   "source": [
    "* б). D(X) "
   ]
  },
  {
   "cell_type": "markdown",
   "id": "291ce090-6d6a-4fb3-b842-815f2be44cf6",
   "metadata": {},
   "source": [
    "D(X) = 16"
   ]
  },
  {
   "cell_type": "markdown",
   "id": "35a32913-53eb-4389-bc74-3c14f9e06c6c",
   "metadata": {},
   "source": [
    "* в). std(X) (среднее квадратичное отклонение)"
   ]
  },
  {
   "cell_type": "markdown",
   "id": "8a0f02ca-bcf1-4c91-9b64-492366e58a03",
   "metadata": {},
   "source": [
    "std(X) = 4"
   ]
  },
  {
   "cell_type": "markdown",
   "id": "06694480-779e-4f9a-831c-cb9d4da8d5e0",
   "metadata": {},
   "source": [
    "* __Задача 4.__ Рост взрослого населения города X имеет нормальное распределение, причем, средний рост равен 174 см, а среднее квадратическое отклонение равно 8 см. посчитайте, какова вероятность того, что случайным образом выбранный взрослый человек имеет рост:\n",
    "1. больше 182 см?\n",
    "2. больше 190 см?\n",
    "3. от 166 см до 190 см?\n",
    "4. от 166 см до 182 см?\n",
    "5. от 158 см до 190 см?\n",
    "6. не выше 150 см или не ниже 190 см?\n",
    "7. не выше 150 см или не ниже 198 см?\n",
    "8. ниже 166 см?\n",
    "\n",
    "Задачу можно решить двумя способами: без использования сторонних библиотек (numpy, scipy, pandas и пр.), а затем проверить себя с помощью встроенных функций"
   ]
  },
  {
   "cell_type": "markdown",
   "id": "5647e4f0-944a-40cf-8bfb-fc0bca706891",
   "metadata": {},
   "source": [
    "* больше 182 см?"
   ]
  },
  {
   "cell_type": "code",
   "execution_count": 10,
   "id": "4c622540-98c0-456d-b6b5-c6edda10b7ba",
   "metadata": {},
   "outputs": [
    {
     "data": {
      "text/plain": [
       "0.15865525393145707"
      ]
     },
     "execution_count": 10,
     "metadata": {},
     "output_type": "execute_result"
    }
   ],
   "source": [
    "1 - stats.norm.cdf(182, 174, 8)"
   ]
  },
  {
   "cell_type": "markdown",
   "id": "77bdef55-3868-46a3-958e-31f5a81dae7a",
   "metadata": {},
   "source": [
    "* больше 190 см?"
   ]
  },
  {
   "cell_type": "code",
   "execution_count": 11,
   "id": "c15a1c1e-0ab4-4b60-b50f-4971a7bac5d0",
   "metadata": {},
   "outputs": [
    {
     "data": {
      "text/plain": [
       "0.02275013194817921"
      ]
     },
     "execution_count": 11,
     "metadata": {},
     "output_type": "execute_result"
    }
   ],
   "source": [
    "1 - stats.norm.cdf(190, 174, 8)"
   ]
  },
  {
   "cell_type": "markdown",
   "id": "9b1957b5-1e1f-46ae-9884-2bf769b2571e",
   "metadata": {},
   "source": [
    "* от 166 см до 190 см?"
   ]
  },
  {
   "cell_type": "code",
   "execution_count": 12,
   "id": "4fccff12-6505-4023-9b32-1364f594d1ff",
   "metadata": {},
   "outputs": [
    {
     "data": {
      "text/plain": [
       "0.8185946141203637"
      ]
     },
     "execution_count": 12,
     "metadata": {},
     "output_type": "execute_result"
    }
   ],
   "source": [
    "stats.norm.cdf(190, 174, 8) - stats.norm.cdf(166, 174, 8)"
   ]
  },
  {
   "cell_type": "markdown",
   "id": "95283615-fea4-4a89-bbdc-df38d6d875f7",
   "metadata": {},
   "source": [
    "* от 166 см до 182 см?"
   ]
  },
  {
   "cell_type": "code",
   "execution_count": 13,
   "id": "17214e14-4b29-424e-84a8-1f3b9cfda7e8",
   "metadata": {},
   "outputs": [
    {
     "data": {
      "text/plain": [
       "0.6826894921370859"
      ]
     },
     "execution_count": 13,
     "metadata": {},
     "output_type": "execute_result"
    }
   ],
   "source": [
    "stats.norm.cdf(182, 174, 8) - stats.norm.cdf(166, 174, 8)"
   ]
  },
  {
   "cell_type": "markdown",
   "id": "0283c3ae-2400-462c-92e1-a82c1ddedfcc",
   "metadata": {},
   "source": [
    "* от 158 см до 190 см?"
   ]
  },
  {
   "cell_type": "code",
   "execution_count": 14,
   "id": "052d1b4c-df8b-44a2-87e9-eb121bf86b91",
   "metadata": {},
   "outputs": [
    {
     "data": {
      "text/plain": [
       "0.9544997361036416"
      ]
     },
     "execution_count": 14,
     "metadata": {},
     "output_type": "execute_result"
    }
   ],
   "source": [
    "stats.norm.cdf(190, 174, 8) - stats.norm.cdf(158, 174, 8)"
   ]
  },
  {
   "cell_type": "markdown",
   "id": "98160daa-9dee-4300-9b1d-1c7b837919db",
   "metadata": {},
   "source": [
    "не выше 150 см или не ниже 190 см?"
   ]
  },
  {
   "cell_type": "code",
   "execution_count": 15,
   "id": "cab648c7-454d-4fb6-a6ef-b1cf7770b81b",
   "metadata": {},
   "outputs": [
    {
     "data": {
      "text/plain": [
       "0.0241000299798093"
      ]
     },
     "execution_count": 15,
     "metadata": {},
     "output_type": "execute_result"
    }
   ],
   "source": [
    "stats.norm.cdf(150, 174, 8) + (1 - stats.norm.cdf(190, 174, 8))"
   ]
  },
  {
   "cell_type": "markdown",
   "id": "4e70a6b4-385a-4ee2-8df3-6457328b5ea2",
   "metadata": {},
   "source": [
    "не выше 150 см или не ниже 198 см?"
   ]
  },
  {
   "cell_type": "code",
   "execution_count": 16,
   "id": "e3778935-7b1c-4437-b966-3712a0f202b8",
   "metadata": {},
   "outputs": [
    {
     "data": {
      "text/plain": [
       "0.0026997960632601965"
      ]
     },
     "execution_count": 16,
     "metadata": {},
     "output_type": "execute_result"
    }
   ],
   "source": [
    "stats.norm.cdf(150, 174, 8) + (1 - stats.norm.cdf(198, 174, 8))"
   ]
  },
  {
   "cell_type": "markdown",
   "id": "100f5458-2a9f-40e3-a46d-0237558b1942",
   "metadata": {},
   "source": [
    "ниже 166 см?"
   ]
  },
  {
   "cell_type": "code",
   "execution_count": 17,
   "id": "9c4fb531-56ee-477f-98d3-2fad3ec494b1",
   "metadata": {},
   "outputs": [
    {
     "data": {
      "text/plain": [
       "0.15865525393145707"
      ]
     },
     "execution_count": 17,
     "metadata": {},
     "output_type": "execute_result"
    }
   ],
   "source": [
    "stats.norm.cdf(166, 174, 8)"
   ]
  },
  {
   "cell_type": "markdown",
   "id": "d780200a-2fc1-4f90-ae09-4fccfb269b57",
   "metadata": {},
   "source": [
    "* __Задача 5.__ На сколько сигм (средних квадратичных отклонений) отклоняется рост человека,\n",
    "равный 190 см, от\n",
    "математического ожидания роста в популяции, в которой M(X) = 178 см и D(X) = 25 кв.см?"
   ]
  },
  {
   "cell_type": "markdown",
   "id": "16e345f0-9e92-4877-b2b6-5aba76df72b5",
   "metadata": {},
   "source": [
    "___Ответ: 2.4 сигмы отклоняется рост___"
   ]
  },
  {
   "cell_type": "code",
   "execution_count": null,
   "id": "3a88a2d3-2e35-4093-b592-3b1012333b5d",
   "metadata": {},
   "outputs": [],
   "source": []
  }
 ],
 "metadata": {
  "kernelspec": {
   "display_name": "Python 3 (ipykernel)",
   "language": "python",
   "name": "python3"
  },
  "language_info": {
   "codemirror_mode": {
    "name": "ipython",
    "version": 3
   },
   "file_extension": ".py",
   "mimetype": "text/x-python",
   "name": "python",
   "nbconvert_exporter": "python",
   "pygments_lexer": "ipython3",
   "version": "3.11.4"
  }
 },
 "nbformat": 4,
 "nbformat_minor": 5
}
