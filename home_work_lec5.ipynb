{
 "cells": [
  {
   "cell_type": "markdown",
   "id": "0b36be09-9330-4336-aa7e-d3eceff32216",
   "metadata": {},
   "source": [
    "1. Когда используется критерий Стьюдента, а когда Z –критерий? "
   ]
  },
  {
   "cell_type": "markdown",
   "id": "804453c6-78f8-42b5-b267-1f5ae87a0400",
   "metadata": {},
   "source": [
    "1) Если математическое ожидание равно определенному числу, наблюдается нормальное распределение и известно\n",
    "среднее квадратичное отклонение генеральной совокупности, то используется Z –критерий.\n",
    "    \n",
    "2) Если математическое ожидание равно определенному числу, наблюдается нормальное распределение и неизвестно\n",
    "среднее квадратичное отклонение генеральной совокупности, то используется t(Стьюдента) –критерий."
   ]
  },
  {
   "cell_type": "markdown",
   "id": "52fc3ad1-ce98-48db-979d-ba5b4e9eb1f6",
   "metadata": {},
   "source": [
    "##### 2.Проведите тест гипотезы. Утверждается, что шарики для подшипников, изготовленные автоматическим станком, имеют средний диаметр 17 мм. Используя односторонний критерий с α=0,05, проверить эту гипотезу, если в выборке из n=100 шариков средний диаметр оказался равным 17.5 мм, а дисперсия известна и равна 4 кв. мм."
   ]
  },
  {
   "cell_type": "code",
   "execution_count": 1,
   "id": "ba9f53d2-7021-4495-9c12-d55a8d649de4",
   "metadata": {},
   "outputs": [],
   "source": [
    "import numpy as np"
   ]
  },
  {
   "cell_type": "code",
   "execution_count": 2,
   "id": "0cc3cd7e-6526-45b1-a8e9-c5438e12975b",
   "metadata": {},
   "outputs": [
    {
     "data": {
      "text/plain": [
       "2.0"
      ]
     },
     "execution_count": 2,
     "metadata": {},
     "output_type": "execute_result"
    }
   ],
   "source": [
    "sd = np.sqrt(4)\n",
    "sd"
   ]
  },
  {
   "cell_type": "code",
   "execution_count": 3,
   "id": "5adec24d-1054-4388-909f-a7312eee1754",
   "metadata": {},
   "outputs": [
    {
     "data": {
      "text/plain": [
       "2.5"
      ]
     },
     "execution_count": 3,
     "metadata": {},
     "output_type": "execute_result"
    }
   ],
   "source": [
    "z_h = (17.5 - 17) / (sd / np.sqrt(100))\n",
    "z_h"
   ]
  },
  {
   "cell_type": "code",
   "execution_count": 4,
   "id": "2c67eb21-5bd4-41c7-a8f9-4a4db7891655",
   "metadata": {},
   "outputs": [],
   "source": [
    "from scipy import stats"
   ]
  },
  {
   "cell_type": "code",
   "execution_count": 5,
   "id": "aa050f56-ecbb-4516-8d8e-887bf64bb30e",
   "metadata": {},
   "outputs": [
    {
     "data": {
      "text/plain": [
       "2.4942057003208898e-129"
      ]
     },
     "execution_count": 5,
     "metadata": {},
     "output_type": "execute_result"
    }
   ],
   "source": [
    "stats.norm.cdf(2.5, loc=17, scale=0.6)"
   ]
  },
  {
   "cell_type": "code",
   "execution_count": 6,
   "id": "7ed03294-4d8b-4be5-9c67-78d2ac9aaf6d",
   "metadata": {},
   "outputs": [
    {
     "data": {
      "text/plain": [
       "1.6448536269514722"
      ]
     },
     "execution_count": 6,
     "metadata": {},
     "output_type": "execute_result"
    }
   ],
   "source": [
    "critical_value = stats.norm.ppf(1 - 0.05)\n",
    "critical_value"
   ]
  },
  {
   "cell_type": "markdown",
   "id": "fbfec83d-ac58-4c78-bd83-701369b1e6e9",
   "metadata": {},
   "source": [
    "Гипотиза Н0 отвергается со значением alpha = 0,05 (их средний диаметр не 17 мм)"
   ]
  },
  {
   "cell_type": "markdown",
   "id": "8e3ff0d5-5a0a-41db-a77b-31e15bd69528",
   "metadata": {},
   "source": [
    "3. Проведите тест гипотезы. Продавец утверждает, что средний вес пачки печенья составляет 200 г. Из партии извлечена выборка из 10 пачек. Вес каждой пачки составляет: 202, 203, 199, 197, 195, 201, 200, 204, 194, 190. Известно, что их веса распределены нормально. Верно ли утверждение продавца, если учитывать, что доверительная вероятность равна 99%? (Провести двусторонний тест.) "
   ]
  },
  {
   "cell_type": "code",
   "execution_count": 7,
   "id": "34d6423b-465c-45a7-b3c6-4d6a37712e21",
   "metadata": {},
   "outputs": [],
   "source": [
    "data = np.array([202, 203, 199, 197, 195, 201, 200, 204, 194, 190])\n"
   ]
  },
  {
   "cell_type": "code",
   "execution_count": 8,
   "id": "360879b1-d74f-491f-9330-45170ed8f7e8",
   "metadata": {},
   "outputs": [],
   "source": [
    "st = np.std(data, ddof=1)"
   ]
  },
  {
   "cell_type": "code",
   "execution_count": 9,
   "id": "f916244a-a395-45ca-9fe6-4d98dcf54884",
   "metadata": {},
   "outputs": [
    {
     "data": {
      "text/plain": [
       "4.453463071962462"
      ]
     },
     "execution_count": 9,
     "metadata": {},
     "output_type": "execute_result"
    }
   ],
   "source": [
    "st"
   ]
  },
  {
   "cell_type": "code",
   "execution_count": 10,
   "id": "96d3f39a-25e2-4b12-bf6b-7291849e9688",
   "metadata": {},
   "outputs": [
    {
     "data": {
      "text/plain": [
       "198.5"
      ]
     },
     "execution_count": 10,
     "metadata": {},
     "output_type": "execute_result"
    }
   ],
   "source": [
    "data_mean =  np.mean(data)\n",
    "data_mean"
   ]
  },
  {
   "cell_type": "code",
   "execution_count": 11,
   "id": "27fb4808-1cae-45a4-89ee-588a3537786d",
   "metadata": {},
   "outputs": [
    {
     "data": {
      "text/plain": [
       "-1.0651074037450896"
      ]
     },
     "execution_count": 11,
     "metadata": {},
     "output_type": "execute_result"
    }
   ],
   "source": [
    "t_h = (198.5 - 200) / (st / np.sqrt(10))\n",
    "t_h"
   ]
  },
  {
   "cell_type": "code",
   "execution_count": 12,
   "id": "ab2d1a01-7160-4203-91c7-c27a5b5e941b",
   "metadata": {},
   "outputs": [
    {
     "data": {
      "text/plain": [
       "10"
      ]
     },
     "execution_count": 12,
     "metadata": {},
     "output_type": "execute_result"
    }
   ],
   "source": [
    "n = len(data)\n",
    "n"
   ]
  },
  {
   "cell_type": "code",
   "execution_count": 13,
   "id": "658512b3-3964-4b70-94c6-60d61a1af566",
   "metadata": {},
   "outputs": [
    {
     "data": {
      "text/plain": [
       "-3.24983554401537"
      ]
     },
     "execution_count": 13,
     "metadata": {},
     "output_type": "execute_result"
    }
   ],
   "source": [
    "stats.t.ppf(0.01 / 2 , df = n - 1)"
   ]
  },
  {
   "cell_type": "markdown",
   "id": "ce101fdc-fe3a-43fd-9a80-40cdc436c58b",
   "metadata": {},
   "source": [
    "t_h > -3.24983554401537 \\\n",
    "Гипотиза Н0 __не__ отвергается со значением alpha = 0,01 (средний вес пачки печенья составляет 200 г)"
   ]
  },
  {
   "cell_type": "markdown",
   "id": "55860eac-92be-401a-9bb9-d41f33438a23",
   "metadata": {},
   "source": [
    "4. Есть ли статистически значимые различия в росте дочерей? Рост матерей 172, 177, 158, 170, 178,175, 164, 160, 169, 165 Рост взрослых дочерей: 173, 175, 162, 174, 175, 168, 155, 170, 160"
   ]
  },
  {
   "cell_type": "code",
   "execution_count": 16,
   "id": "a0b907bb-81a2-4948-96a5-19f21760b32b",
   "metadata": {},
   "outputs": [
    {
     "data": {
      "text/plain": [
       "Ttest_indResult(statistic=1.142367378626931, pvalue=0.26913616861454137)"
      ]
     },
     "execution_count": 16,
     "metadata": {},
     "output_type": "execute_result"
    }
   ],
   "source": [
    "mother = np.array([172, 177, 158, 170, 178,175, 164, 160, 169, 165])\n",
    "dother = np.array([73, 175, 162, 174, 175, 168, 155, 170, 160])\n",
    "stats.ttest_ind(mother, dother)\n"
   ]
  },
  {
   "cell_type": "code",
   "execution_count": 17,
   "id": "61b26b94-7c4c-4e2d-a1a3-0a5ccb6a03e2",
   "metadata": {},
   "outputs": [],
   "source": [
    "alpha = 0.05"
   ]
  },
  {
   "cell_type": "markdown",
   "id": "64a3f4f0-acbd-4001-aac0-ec437838723e",
   "metadata": {},
   "source": [
    "pvalue > alpha\n",
    "Гипотиза Н0 не отвергается со значением alpha = 0,05 (нет статистически значимые различия в росте дочерей)"
   ]
  }
 ],
 "metadata": {
  "kernelspec": {
   "display_name": "Python 3 (ipykernel)",
   "language": "python",
   "name": "python3"
  },
  "language_info": {
   "codemirror_mode": {
    "name": "ipython",
    "version": 3
   },
   "file_extension": ".py",
   "mimetype": "text/x-python",
   "name": "python",
   "nbconvert_exporter": "python",
   "pygments_lexer": "ipython3",
   "version": "3.11.4"
  }
 },
 "nbformat": 4,
 "nbformat_minor": 5
}
