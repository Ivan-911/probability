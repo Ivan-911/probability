{
 "cells": [
  {
   "cell_type": "code",
   "execution_count": 10,
   "id": "7643b787-54b0-4bde-97d2-9b162c99e4a0",
   "metadata": {},
   "outputs": [],
   "source": [
    "import numpy as np\n",
    "from math import factorial, e, sqrt"
   ]
  },
  {
   "cell_type": "code",
   "execution_count": 2,
   "id": "521bf702-caef-4995-bdd7-3500c7272af4",
   "metadata": {},
   "outputs": [],
   "source": [
    "def combinations (n,k):\n",
    "    return factorial(n) // (factorial(k) * factorial(n - k)) "
   ]
  },
  {
   "cell_type": "markdown",
   "id": "32f3e6a2-ed5a-4fbf-b2c1-df7a439d0608",
   "metadata": {},
   "source": [
    "##### Даны значения зарплат из выборки выпускников: 100, 80, 75, 77, 89, 33, 45, 25, 65, 17, 30, 24, 57, 55, 70, 75, 65, 84, 90, 150. Посчитать (желательно без использования статистических методов наподобие std, var, mean) среднее арифметическое, среднее квадратичное отклонение, смещенную и несмещенную оценки дисперсий для данной выборки."
   ]
  },
  {
   "cell_type": "markdown",
   "id": "3389e988-e651-4f98-8330-ebdae46c3c5a",
   "metadata": {},
   "source": [
    "* среднее арифметическое"
   ]
  },
  {
   "cell_type": "code",
   "execution_count": 7,
   "id": "5f72a456-92f1-496a-82a1-19e67a9fa943",
   "metadata": {},
   "outputs": [
    {
     "name": "stdout",
     "output_type": "stream",
     "text": [
      "count_set:  20 summ_list : 1306\n",
      "answer:  65.3\n"
     ]
    }
   ],
   "source": [
    "set_list = [100, 80, 75, 77, 89, 33, 45, 25, 65, 17, 30, 24, 57, 55, 70, 75, 65, 84, 90, 150]\n",
    "count_set = len(set_list)\n",
    "summ_list = sum(set_list)\n",
    "answer = summ_list / count_set\n",
    "print('count_set: ', count_set, 'summ_list :', summ_list)\n",
    "print('answer: ', answer)"
   ]
  },
  {
   "cell_type": "markdown",
   "id": "19c4e2b0-2b28-45da-ab0e-7d04a1d74e57",
   "metadata": {},
   "source": [
    "*  среднее квадратичное отклонение"
   ]
  },
  {
   "cell_type": "code",
   "execution_count": 9,
   "id": "8e3ec864-bc94-4684-8aaa-334a6677a9f9",
   "metadata": {},
   "outputs": [
    {
     "data": {
      "text/plain": [
       "950.11"
      ]
     },
     "execution_count": 9,
     "metadata": {},
     "output_type": "execute_result"
    }
   ],
   "source": [
    "answer =  sum([(i - 65.3)**2 for i in set_list]) / 20\n",
    "answer / 20"
   ]
  },
  {
   "cell_type": "markdown",
   "id": "6e5e4d6e-844c-453c-933a-a96e73cf13ae",
   "metadata": {},
   "source": [
    "*  смещенную дисперсию"
   ]
  },
  {
   "cell_type": "code",
   "execution_count": 12,
   "id": "638e35d6-5807-41ad-ae15-9da72518a5b7",
   "metadata": {},
   "outputs": [
    {
     "data": {
      "text/plain": [
       "30.823854398825596"
      ]
     },
     "execution_count": 12,
     "metadata": {},
     "output_type": "execute_result"
    }
   ],
   "source": [
    "sqrt(950.11)"
   ]
  },
  {
   "cell_type": "markdown",
   "id": "3bff1ccb-266e-400b-a2ac-69a55f00e105",
   "metadata": {},
   "source": [
    "* несмещенную дисперсию"
   ]
  },
  {
   "cell_type": "code",
   "execution_count": 13,
   "id": "85ca828d-dcb3-4aa8-8e42-9f3e860243b9",
   "metadata": {},
   "outputs": [
    {
     "data": {
      "text/plain": [
       "31.624607341019814"
      ]
     },
     "execution_count": 13,
     "metadata": {},
     "output_type": "execute_result"
    }
   ],
   "source": [
    "sqrt(sum([(i - 65.3)**2 for i in set_list]) / (20 - 1))"
   ]
  },
  {
   "cell_type": "markdown",
   "id": "0c846792-6ce3-4c82-8a3d-8a690cf1101f",
   "metadata": {},
   "source": [
    "##### В первом ящике находится 8 мячей, из которых 5 - белые. Во втором ящике - 12 мячей, из которых 5 белых. Из первого ящика вытаскивают случайным образом два мяча, из второго - 4. Какова вероятность того, что 3 мяча белые?"
   ]
  },
  {
   "cell_type": "code",
   "execution_count": 3,
   "id": "dd86753d-09cd-4a44-90a9-2558f4978c26",
   "metadata": {},
   "outputs": [],
   "source": [
    "set_p_1 = (combinations(5, 2) / combinations(8, 2)) * (combinations(5, 1) * combinations(7, 3) / combinations(12, 4))"
   ]
  },
  {
   "cell_type": "code",
   "execution_count": 4,
   "id": "831843d2-f45c-4b0b-ba5e-c059f8cc0745",
   "metadata": {},
   "outputs": [],
   "source": [
    "set_p_2 = (combinations(5, 1) * combinations(3, 1)/ combinations(8, 2)) * (combinations(5, 2) * combinations(7, 2) / combinations(12, 4))"
   ]
  },
  {
   "cell_type": "code",
   "execution_count": 5,
   "id": "981a160d-aa14-47b8-ba16-579e12191d95",
   "metadata": {},
   "outputs": [],
   "source": [
    "set_p_3 = (combinations(3, 2)/ combinations(8, 2)) * (combinations(5, 3) * combinations(7, 1) / combinations(12, 4))"
   ]
  },
  {
   "cell_type": "code",
   "execution_count": 6,
   "id": "116468bb-c0b2-4e2f-824f-171ca8bafe06",
   "metadata": {},
   "outputs": [
    {
     "data": {
      "text/plain": [
       "0.3686868686868687"
      ]
     },
     "execution_count": 6,
     "metadata": {},
     "output_type": "execute_result"
    }
   ],
   "source": [
    "answer = set_p_1 + set_p_2 + set_p_3\n",
    "answer"
   ]
  },
  {
   "cell_type": "markdown",
   "id": "c18887b9-3d29-4c14-8345-558f9b8e2ec8",
   "metadata": {},
   "source": [
    "##### На соревновании по биатлону один из трех спортсменов стреляет и попадает в мишень. Вероятность попадания для первого спортсмена равна 0.9, для второго — 0.8, для третьего — 0.6. Найти вероятность того, что выстрел произведен: a). первым спортсменом б). вторым спортсменом в). третьим спортсменом."
   ]
  },
  {
   "cell_type": "code",
   "execution_count": 10,
   "id": "d5b3a265-c39f-4154-b304-8c0cc0300d43",
   "metadata": {},
   "outputs": [
    {
     "data": {
      "text/plain": [
       "2.3000000000000003"
      ]
     },
     "execution_count": 10,
     "metadata": {},
     "output_type": "execute_result"
    }
   ],
   "source": [
    "probability_all = 0.9 + 0.8 + 0.6\n",
    "probability_all"
   ]
  },
  {
   "cell_type": "markdown",
   "id": "3c59ce73-b2b4-4dfe-b164-3c660fce7e71",
   "metadata": {},
   "source": [
    "* a). первым спортсменом"
   ]
  },
  {
   "cell_type": "code",
   "execution_count": 11,
   "id": "969cf339-cdf5-47b7-93c7-8feb07885ce1",
   "metadata": {},
   "outputs": [
    {
     "data": {
      "text/plain": [
       "0.3913043478260869"
      ]
     },
     "execution_count": 11,
     "metadata": {},
     "output_type": "execute_result"
    }
   ],
   "source": [
    "answer = 0.9 / probability_all\n",
    "answer"
   ]
  },
  {
   "cell_type": "markdown",
   "id": "0693971a-9a56-4146-8037-982e1655cf51",
   "metadata": {},
   "source": [
    "* б). вторым спортсменом"
   ]
  },
  {
   "cell_type": "code",
   "execution_count": 12,
   "id": "cc5419e7-dbf2-4658-a14d-1b2d4f845d33",
   "metadata": {},
   "outputs": [
    {
     "data": {
      "text/plain": [
       "0.34782608695652173"
      ]
     },
     "execution_count": 12,
     "metadata": {},
     "output_type": "execute_result"
    }
   ],
   "source": [
    "answer = 0.8 / probability_all\n",
    "answer"
   ]
  },
  {
   "cell_type": "markdown",
   "id": "e7b913c8-3b94-4951-a91a-f488ca388978",
   "metadata": {},
   "source": [
    "* в). третьим спортсменом."
   ]
  },
  {
   "cell_type": "code",
   "execution_count": 13,
   "id": "b71935d5-e63a-4e10-a721-ef57ea988426",
   "metadata": {},
   "outputs": [
    {
     "data": {
      "text/plain": [
       "0.26086956521739124"
      ]
     },
     "execution_count": 13,
     "metadata": {},
     "output_type": "execute_result"
    }
   ],
   "source": [
    "answer = 0.6 / probability_all\n",
    "answer"
   ]
  },
  {
   "cell_type": "markdown",
   "id": "159af9a5-7571-4fca-9692-67b4f56a2258",
   "metadata": {},
   "source": [
    "##### В университет на факультеты A и B поступило равное количество студентов, а на факультет C студентов поступило столько же, сколько на A и B вместе. Вероятность того, что студент факультета A сдаст первую сессию, равна 0.8. Для студента факультета B эта вероятность равна 0.7, а для студента факультета C - 0.9. Студент сдал первую сессию. Какова вероятность, что он учится: a). на факультете A б). на факультете B в). на факультете C?"
   ]
  },
  {
   "cell_type": "code",
   "execution_count": 15,
   "id": "c97d2077-3709-41be-bafc-f8d66437ba0f",
   "metadata": {},
   "outputs": [
    {
     "data": {
      "text/plain": [
       "2.4000000000000004"
      ]
     },
     "execution_count": 15,
     "metadata": {},
     "output_type": "execute_result"
    }
   ],
   "source": [
    "probability_all = 0.9 + 0.8 + 0.7\n",
    "probability_all"
   ]
  },
  {
   "cell_type": "markdown",
   "id": "096dfce6-6623-47c4-9294-086c95220eb5",
   "metadata": {},
   "source": [
    "* a). на факультете A "
   ]
  },
  {
   "cell_type": "code",
   "execution_count": 16,
   "id": "0b2575ff-83f2-4099-917d-73c5df2e764e",
   "metadata": {},
   "outputs": [
    {
     "data": {
      "text/plain": [
       "0.3333333333333333"
      ]
     },
     "execution_count": 16,
     "metadata": {},
     "output_type": "execute_result"
    }
   ],
   "source": [
    "answer = 0.8 / probability_all\n",
    "answer"
   ]
  },
  {
   "cell_type": "markdown",
   "id": "60eda9f4-c4cb-4127-8c3d-e930cb78053c",
   "metadata": {},
   "source": [
    "* б). на факультете B "
   ]
  },
  {
   "cell_type": "code",
   "execution_count": 26,
   "id": "6667c327-fc91-4ee0-b939-339dbca7555d",
   "metadata": {},
   "outputs": [
    {
     "data": {
      "text/plain": [
       "0.29166666666666663"
      ]
     },
     "execution_count": 26,
     "metadata": {},
     "output_type": "execute_result"
    }
   ],
   "source": [
    "answer = 0.7 / probability_all\n",
    "answer"
   ]
  },
  {
   "cell_type": "markdown",
   "id": "ca188066-7c3f-4526-b4a1-4781f6f7b330",
   "metadata": {},
   "source": [
    "* в). на факультете C"
   ]
  },
  {
   "cell_type": "code",
   "execution_count": 22,
   "id": "4515b7e1-3193-4b9a-a52e-3e3f74c9b6f4",
   "metadata": {},
   "outputs": [
    {
     "data": {
      "text/plain": [
       "0.37499999999999994"
      ]
     },
     "execution_count": 22,
     "metadata": {},
     "output_type": "execute_result"
    }
   ],
   "source": [
    "answer = 0.9 / probability_all\n",
    "answer"
   ]
  },
  {
   "cell_type": "markdown",
   "id": "6f5fd749-668b-41ba-ad14-270964be4a0f",
   "metadata": {},
   "source": [
    "##### Устройство состоит из трех деталей. Для первой детали вероятность выйти из строя в первый месяц равна 0.1, для второй - 0.2, для третьей - 0.25. Какова вероятность того, что в первый месяц выйдут из строя: а). все детали б). только две детали в). хотя бы одна деталь г). от одной до двух деталей?"
   ]
  },
  {
   "cell_type": "markdown",
   "id": "c03b25f1-1386-4a23-9215-e745bb142201",
   "metadata": {},
   "source": [
    "* что в первый месяц выйдут из строя: а). все детали"
   ]
  },
  {
   "cell_type": "code",
   "execution_count": 1,
   "id": "6e55a7b6-d882-42a4-b52e-dc33748aec7b",
   "metadata": {},
   "outputs": [
    {
     "data": {
      "text/plain": [
       "0.005000000000000001"
      ]
     },
     "execution_count": 1,
     "metadata": {},
     "output_type": "execute_result"
    }
   ],
   "source": [
    "answer = 0.1 * 0.2 * 0.25\n",
    "answer"
   ]
  },
  {
   "cell_type": "markdown",
   "id": "3822c67c-4203-4f45-a712-2bd03f37a318",
   "metadata": {},
   "source": [
    "* б). только две детали"
   ]
  },
  {
   "cell_type": "code",
   "execution_count": 2,
   "id": "5e7dbd56-1c0b-444c-adb9-61aa7e112359",
   "metadata": {},
   "outputs": [
    {
     "data": {
      "text/plain": [
       "0.095"
      ]
     },
     "execution_count": 2,
     "metadata": {},
     "output_type": "execute_result"
    }
   ],
   "source": [
    "answer = 0.1 * 0.2 + 0.1 * 0.25 + 0.2 * 0.25\n",
    "answer"
   ]
  },
  {
   "cell_type": "markdown",
   "id": "2c1200fe-01a9-44cf-952e-0289f60241c2",
   "metadata": {},
   "source": [
    "* в). хотя бы одна деталь"
   ]
  },
  {
   "cell_type": "code",
   "execution_count": 3,
   "id": "10218587-41f3-40a2-ada5-cd68602bc90c",
   "metadata": {},
   "outputs": [
    {
     "data": {
      "text/plain": [
       "0.55"
      ]
     },
     "execution_count": 3,
     "metadata": {},
     "output_type": "execute_result"
    }
   ],
   "source": [
    "answer = 0.1 + 0.2 + 0.25\n",
    "answer"
   ]
  },
  {
   "cell_type": "markdown",
   "id": "d0946a98-53e8-4534-8bc0-a6c65acb1b6a",
   "metadata": {},
   "source": [
    "* г). от одной до двух деталей?"
   ]
  },
  {
   "cell_type": "code",
   "execution_count": 4,
   "id": "393a4598-259a-4783-94ac-f1f169bca58f",
   "metadata": {},
   "outputs": [
    {
     "data": {
      "text/plain": [
       "0.645"
      ]
     },
     "execution_count": 4,
     "metadata": {},
     "output_type": "execute_result"
    }
   ],
   "source": [
    "answer = (0.1 + 0.2 + 0.25) + (0.1 * 0.2 + 0.1 * 0.25 + 0.2 * 0.25)\n",
    "answer"
   ]
  },
  {
   "cell_type": "code",
   "execution_count": null,
   "id": "644a27d0-56e6-4807-97c9-98f5658b04c6",
   "metadata": {},
   "outputs": [],
   "source": []
  }
 ],
 "metadata": {
  "kernelspec": {
   "display_name": "Python 3 (ipykernel)",
   "language": "python",
   "name": "python3"
  },
  "language_info": {
   "codemirror_mode": {
    "name": "ipython",
    "version": 3
   },
   "file_extension": ".py",
   "mimetype": "text/x-python",
   "name": "python",
   "nbconvert_exporter": "python",
   "pygments_lexer": "ipython3",
   "version": "3.11.4"
  }
 },
 "nbformat": 4,
 "nbformat_minor": 5
}
