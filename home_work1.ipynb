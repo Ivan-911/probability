{
 "cells": [
  {
   "cell_type": "code",
   "execution_count": 1,
   "id": "282a17fb",
   "metadata": {},
   "outputs": [],
   "source": [
    "from math import factorial\n",
    "import numpy as np"
   ]
  },
  {
   "cell_type": "code",
   "execution_count": 2,
   "id": "632f61c6",
   "metadata": {},
   "outputs": [],
   "source": [
    "def combinations (n,k):\n",
    "    return factorial(n) // (factorial(k) * factorial(n - k)) "
   ]
  },
  {
   "cell_type": "code",
   "execution_count": 3,
   "id": "1bdc3efb",
   "metadata": {},
   "outputs": [],
   "source": [
    "def placements(n, k):\n",
    "    return factorial(n) // (factorial(n - k))"
   ]
  },
  {
   "cell_type": "code",
   "execution_count": 4,
   "id": "4a3a20f5",
   "metadata": {},
   "outputs": [],
   "source": [
    "def probability(m, n):\n",
    "    return m / n"
   ]
  },
  {
   "cell_type": "markdown",
   "id": "ad9681bf",
   "metadata": {},
   "source": [
    "#### Из колоды в 52 карты извлекаются случайным образом 4 карты. a) Найти вероятность того, что все 4 карты – крести."
   ]
  },
  {
   "cell_type": "code",
   "execution_count": 5,
   "id": "c7c6129c",
   "metadata": {},
   "outputs": [],
   "source": [
    "answer = probability(m=13, n=52) * probability(m=12, n=51) * probability(m=11, n=50) * probability(m=10, n=49)"
   ]
  },
  {
   "cell_type": "code",
   "execution_count": 6,
   "id": "82183f34",
   "metadata": {},
   "outputs": [
    {
     "data": {
      "text/plain": [
       "0.0026410564225690276"
      ]
     },
     "execution_count": 6,
     "metadata": {},
     "output_type": "execute_result"
    }
   ],
   "source": [
    "answer"
   ]
  },
  {
   "cell_type": "code",
   "execution_count": 7,
   "id": "5c36423c",
   "metadata": {},
   "outputs": [
    {
     "data": {
      "text/plain": [
       "270725"
      ]
     },
     "execution_count": 7,
     "metadata": {},
     "output_type": "execute_result"
    }
   ],
   "source": [
    "n = combinations(52, 4)\n",
    "n"
   ]
  },
  {
   "cell_type": "code",
   "execution_count": 8,
   "id": "1b0d6777",
   "metadata": {},
   "outputs": [
    {
     "data": {
      "text/plain": [
       "715"
      ]
     },
     "execution_count": 8,
     "metadata": {},
     "output_type": "execute_result"
    }
   ],
   "source": [
    "m = combinations(13, 4)\n",
    "m"
   ]
  },
  {
   "cell_type": "code",
   "execution_count": 9,
   "id": "3e1fe0e3",
   "metadata": {},
   "outputs": [
    {
     "data": {
      "text/plain": [
       "0.0026410564225690276"
      ]
     },
     "execution_count": 9,
     "metadata": {},
     "output_type": "execute_result"
    }
   ],
   "source": [
    "p = m / n\n",
    "p # answer2"
   ]
  },
  {
   "cell_type": "markdown",
   "id": "35cd5ab9",
   "metadata": {},
   "source": [
    "#### Из колоды в 52 карты извлекаются случайным образом 4 карты. б) Найти вероятность, что среди 4-х карт окажется хотя бы один туз."
   ]
  },
  {
   "cell_type": "code",
   "execution_count": 10,
   "id": "d27c9588",
   "metadata": {},
   "outputs": [],
   "source": [
    "answer = probability(m=4, n=52) + probability(m=3, n=51) + probability(m=2, n=50) + probability(m=1, n=49)"
   ]
  },
  {
   "cell_type": "code",
   "execution_count": 11,
   "id": "e480501b",
   "metadata": {},
   "outputs": [
    {
     "data": {
      "text/plain": [
       "0.19615476960014777"
      ]
     },
     "execution_count": 11,
     "metadata": {},
     "output_type": "execute_result"
    }
   ],
   "source": [
    "answer"
   ]
  },
  {
   "cell_type": "markdown",
   "id": "84a30ac7",
   "metadata": {},
   "source": [
    "#### Задача 2. На входной двери подъезда установлен кодовый замок, содержащий десять кнопок с цифрами от 0 до 9. Код содержит три цифры, которые нужно нажать одновременно . Какова вероятность того, что человек, не знающий код, откроет дверь с первой попытки?"
   ]
  },
  {
   "cell_type": "code",
   "execution_count": 12,
   "id": "10ff3495",
   "metadata": {},
   "outputs": [
    {
     "data": {
      "text/plain": [
       "0.3333333333333333"
      ]
     },
     "execution_count": 12,
     "metadata": {},
     "output_type": "execute_result"
    }
   ],
   "source": [
    "how_many_ways = placements(n=3, k=1) # так как одновременно я поделил 9 на 3 \n",
    "answer = probability(m=1, n=how_many_ways) # так как у нас только один благоприятный исход поэтому m=1\n",
    "answer"
   ]
  },
  {
   "cell_type": "markdown",
   "id": "6d92a6ca",
   "metadata": {},
   "source": [
    "####  Задача 3.В ящике имеется 15 деталей, из которых 9 окрашены. Рабочий случайным образом извлекает 3 детали. Какова вероятность того, что все 3 извлеченные детали окрашены?"
   ]
  },
  {
   "cell_type": "code",
   "execution_count": 13,
   "id": "3469b0fa",
   "metadata": {},
   "outputs": [
    {
     "data": {
      "text/plain": [
       "84"
      ]
     },
     "execution_count": 13,
     "metadata": {},
     "output_type": "execute_result"
    }
   ],
   "source": [
    "probability_m = combinations(9, 3) # количество благоприятный исходов, сколькими способами можно достать 3 детали\n",
    "probability_m"
   ]
  },
  {
   "cell_type": "code",
   "execution_count": 14,
   "id": "55e1a6bd",
   "metadata": {},
   "outputs": [
    {
     "data": {
      "text/plain": [
       "455"
      ]
     },
     "execution_count": 14,
     "metadata": {},
     "output_type": "execute_result"
    }
   ],
   "source": [
    "probability_n = combinations(15, 3) # всего исходов\n",
    "probability_n"
   ]
  },
  {
   "cell_type": "code",
   "execution_count": 15,
   "id": "1fb88499",
   "metadata": {},
   "outputs": [
    {
     "data": {
      "text/plain": [
       "0.18461538461538463"
      ]
     },
     "execution_count": 15,
     "metadata": {},
     "output_type": "execute_result"
    }
   ],
   "source": [
    "answer = probability(probability_m, probability_n)\n",
    "answer"
   ]
  },
  {
   "cell_type": "markdown",
   "id": "fc4514e6",
   "metadata": {},
   "source": [
    "#### Задача 4. В лотерее 100 билетов. Из них 2 выигрышных. Какова вероятность того, что 2 приобретенных билета окажутся выигрышными?"
   ]
  },
  {
   "cell_type": "code",
   "execution_count": 16,
   "id": "c98ccb7a",
   "metadata": {},
   "outputs": [],
   "source": [
    "m = 1\n",
    "n = combinations(100, 2)\n",
    "p = probability(m, n)"
   ]
  },
  {
   "cell_type": "code",
   "execution_count": 17,
   "id": "61245719",
   "metadata": {},
   "outputs": [
    {
     "data": {
      "text/plain": [
       "0.00020202020202020202"
      ]
     },
     "execution_count": 17,
     "metadata": {},
     "output_type": "execute_result"
    }
   ],
   "source": [
    "p # отвевт"
   ]
  },
  {
   "cell_type": "code",
   "execution_count": null,
   "id": "23c3e574",
   "metadata": {},
   "outputs": [],
   "source": []
  }
 ],
 "metadata": {
  "kernelspec": {
   "display_name": "Python 3 (ipykernel)",
   "language": "python",
   "name": "python3"
  },
  "language_info": {
   "codemirror_mode": {
    "name": "ipython",
    "version": 3
   },
   "file_extension": ".py",
   "mimetype": "text/x-python",
   "name": "python",
   "nbconvert_exporter": "python",
   "pygments_lexer": "ipython3",
   "version": "3.11.4"
  }
 },
 "nbformat": 4,
 "nbformat_minor": 5
}
